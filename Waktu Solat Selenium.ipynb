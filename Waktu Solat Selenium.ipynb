{
 "cells": [
  {
   "cell_type": "code",
   "execution_count": 1,
   "metadata": {},
   "outputs": [],
   "source": [
    "from selenium import webdriver\n",
    "from selenium.webdriver.common.keys import Keys\n",
    "from selenium.webdriver.support.select import Select\n",
    "import pandas as pd\n",
    "import time\n",
    "from datetime import date\n",
    "import datetime as dt\n",
    "from config import CHROME_PROFILE_PATH"
   ]
  },
  {
   "cell_type": "code",
   "execution_count": 2,
   "metadata": {},
   "outputs": [],
   "source": [
    "options = webdriver.ChromeOptions()\n",
    "options.add_argument(CHROME_PROFILE_PATH)"
   ]
  },
  {
   "cell_type": "code",
   "execution_count": 3,
   "metadata": {},
   "outputs": [],
   "source": [
    "PATH = \"C:\\Program Files (x86)\\chromedriver.exe\""
   ]
  },
  {
   "cell_type": "code",
   "execution_count": 4,
   "metadata": {
    "scrolled": true
   },
   "outputs": [],
   "source": [
    "driver = webdriver.Chrome(PATH, options=options)\n",
    "url = 'https://www.e-solat.gov.my/index.php?siteId=24&pageId=24#'\n",
    "driver.get(url)"
   ]
  },
  {
   "cell_type": "code",
   "execution_count": 5,
   "metadata": {},
   "outputs": [],
   "source": [
    "#s2= Select(driver.find_element_by_id('id_of_element'))\n",
    " \n",
    "#s2.select_by_value('foo')"
   ]
  },
  {
   "cell_type": "code",
   "execution_count": 6,
   "metadata": {},
   "outputs": [],
   "source": [
    "c1 = driver.find_element_by_id('langswitch').click()"
   ]
  },
  {
   "cell_type": "code",
   "execution_count": 7,
   "metadata": {},
   "outputs": [],
   "source": [
    "time.sleep(2)"
   ]
  },
  {
   "cell_type": "code",
   "execution_count": 8,
   "metadata": {},
   "outputs": [],
   "source": [
    "#c1"
   ]
  },
  {
   "cell_type": "code",
   "execution_count": 9,
   "metadata": {},
   "outputs": [],
   "source": [
    "c2 = driver.find_element_by_xpath('//*[@id=\"langswitch\"]/div/a[2]').click()"
   ]
  },
  {
   "cell_type": "code",
   "execution_count": 10,
   "metadata": {},
   "outputs": [],
   "source": [
    "#c2"
   ]
  },
  {
   "cell_type": "code",
   "execution_count": 11,
   "metadata": {},
   "outputs": [],
   "source": [
    "s1 = Select(driver.find_element_by_id('inputZone'))"
   ]
  },
  {
   "cell_type": "code",
   "execution_count": 12,
   "metadata": {},
   "outputs": [],
   "source": [
    "s1.select_by_value('SGR01')"
   ]
  },
  {
   "cell_type": "code",
   "execution_count": 13,
   "metadata": {},
   "outputs": [],
   "source": [
    "s2 = Select(driver.find_element_by_id('period'))"
   ]
  },
  {
   "cell_type": "code",
   "execution_count": 14,
   "metadata": {},
   "outputs": [],
   "source": [
    "s2.select_by_value('week')"
   ]
  },
  {
   "cell_type": "code",
   "execution_count": 15,
   "metadata": {},
   "outputs": [],
   "source": [
    "c3 = driver.find_element_by_id('searchtakwim').click()"
   ]
  },
  {
   "cell_type": "code",
   "execution_count": 16,
   "metadata": {},
   "outputs": [],
   "source": [
    "#c3"
   ]
  },
  {
   "cell_type": "code",
   "execution_count": 17,
   "metadata": {},
   "outputs": [],
   "source": [
    "#SGR01 - Gombak, Petaling, Sepang, Hulu Langat, Hulu Selangor, S.Alam"
   ]
  },
  {
   "cell_type": "code",
   "execution_count": 18,
   "metadata": {},
   "outputs": [],
   "source": [
    "#SGR01"
   ]
  },
  {
   "cell_type": "code",
   "execution_count": 19,
   "metadata": {},
   "outputs": [],
   "source": [
    "time.sleep(2)"
   ]
  },
  {
   "cell_type": "code",
   "execution_count": 20,
   "metadata": {},
   "outputs": [],
   "source": [
    "df = pd.read_html(driver.page_source)"
   ]
  },
  {
   "cell_type": "code",
   "execution_count": 21,
   "metadata": {},
   "outputs": [
    {
     "data": {
      "text/plain": [
       "[  Tarikh Miladi Tarikh Hijri       Hari    Imsak    Subuh   Syuruk    Zohor  \\\n",
       " 0   21-Jan-2022  18-Jak-1443     Friday  6:05 am  6:15 am  7:25 am  1:27 pm   \n",
       " 1   22-Jan-2022  19-Jak-1443   Saturday  6:05 am  6:15 am  7:25 am  1:27 pm   \n",
       " 2   23-Jan-2022  20-Jak-1443     Sunday  6:06 am  6:16 am  7:26 am  1:28 pm   \n",
       " 3   24-Jan-2022  21-Jak-1443     Monday  6:06 am  6:16 am  7:26 am  1:28 pm   \n",
       " 4   25-Jan-2022  22-Jak-1443    Tuesday  6:06 am  6:16 am  7:26 am  1:28 pm   \n",
       " 5   26-Jan-2022  23-Jak-1443  Wednesday  6:06 am  6:16 am  7:26 am  1:28 pm   \n",
       " 6   27-Jan-2022  24-Jak-1443   Thursday  6:07 am  6:17 am  7:26 am  1:29 pm   \n",
       " 7   28-Jan-2022  25-Jak-1443     Friday  6:07 am  6:17 am  7:26 am  1:29 pm   \n",
       " \n",
       "       Asar  Maghrib    Isyak  \n",
       " 0  4:49 pm  7:25 pm  8:38 pm  \n",
       " 1  4:49 pm  7:25 pm  8:38 pm  \n",
       " 2  4:50 pm  7:26 pm  8:38 pm  \n",
       " 3  4:50 pm  7:26 pm  8:39 pm  \n",
       " 4  4:50 pm  7:26 pm  8:39 pm  \n",
       " 5  4:50 pm  7:26 pm  8:39 pm  \n",
       " 6  4:50 pm  7:27 pm  8:39 pm  \n",
       " 7  4:50 pm  7:27 pm  8:39 pm  ]"
      ]
     },
     "execution_count": 21,
     "metadata": {},
     "output_type": "execute_result"
    }
   ],
   "source": [
    "df"
   ]
  },
  {
   "cell_type": "code",
   "execution_count": 22,
   "metadata": {},
   "outputs": [
    {
     "data": {
      "text/html": [
       "<div>\n",
       "<style scoped>\n",
       "    .dataframe tbody tr th:only-of-type {\n",
       "        vertical-align: middle;\n",
       "    }\n",
       "\n",
       "    .dataframe tbody tr th {\n",
       "        vertical-align: top;\n",
       "    }\n",
       "\n",
       "    .dataframe thead th {\n",
       "        text-align: right;\n",
       "    }\n",
       "</style>\n",
       "<table border=\"1\" class=\"dataframe\">\n",
       "  <thead>\n",
       "    <tr style=\"text-align: right;\">\n",
       "      <th></th>\n",
       "      <th>Tarikh Miladi</th>\n",
       "      <th>Tarikh Hijri</th>\n",
       "      <th>Hari</th>\n",
       "      <th>Imsak</th>\n",
       "      <th>Subuh</th>\n",
       "      <th>Syuruk</th>\n",
       "      <th>Zohor</th>\n",
       "      <th>Asar</th>\n",
       "      <th>Maghrib</th>\n",
       "      <th>Isyak</th>\n",
       "    </tr>\n",
       "  </thead>\n",
       "  <tbody>\n",
       "    <tr>\n",
       "      <th>0</th>\n",
       "      <td>21-Jan-2022</td>\n",
       "      <td>18-Jak-1443</td>\n",
       "      <td>Friday</td>\n",
       "      <td>6:05 am</td>\n",
       "      <td>6:15 am</td>\n",
       "      <td>7:25 am</td>\n",
       "      <td>1:27 pm</td>\n",
       "      <td>4:49 pm</td>\n",
       "      <td>7:25 pm</td>\n",
       "      <td>8:38 pm</td>\n",
       "    </tr>\n",
       "    <tr>\n",
       "      <th>1</th>\n",
       "      <td>22-Jan-2022</td>\n",
       "      <td>19-Jak-1443</td>\n",
       "      <td>Saturday</td>\n",
       "      <td>6:05 am</td>\n",
       "      <td>6:15 am</td>\n",
       "      <td>7:25 am</td>\n",
       "      <td>1:27 pm</td>\n",
       "      <td>4:49 pm</td>\n",
       "      <td>7:25 pm</td>\n",
       "      <td>8:38 pm</td>\n",
       "    </tr>\n",
       "    <tr>\n",
       "      <th>2</th>\n",
       "      <td>23-Jan-2022</td>\n",
       "      <td>20-Jak-1443</td>\n",
       "      <td>Sunday</td>\n",
       "      <td>6:06 am</td>\n",
       "      <td>6:16 am</td>\n",
       "      <td>7:26 am</td>\n",
       "      <td>1:28 pm</td>\n",
       "      <td>4:50 pm</td>\n",
       "      <td>7:26 pm</td>\n",
       "      <td>8:38 pm</td>\n",
       "    </tr>\n",
       "    <tr>\n",
       "      <th>3</th>\n",
       "      <td>24-Jan-2022</td>\n",
       "      <td>21-Jak-1443</td>\n",
       "      <td>Monday</td>\n",
       "      <td>6:06 am</td>\n",
       "      <td>6:16 am</td>\n",
       "      <td>7:26 am</td>\n",
       "      <td>1:28 pm</td>\n",
       "      <td>4:50 pm</td>\n",
       "      <td>7:26 pm</td>\n",
       "      <td>8:39 pm</td>\n",
       "    </tr>\n",
       "    <tr>\n",
       "      <th>4</th>\n",
       "      <td>25-Jan-2022</td>\n",
       "      <td>22-Jak-1443</td>\n",
       "      <td>Tuesday</td>\n",
       "      <td>6:06 am</td>\n",
       "      <td>6:16 am</td>\n",
       "      <td>7:26 am</td>\n",
       "      <td>1:28 pm</td>\n",
       "      <td>4:50 pm</td>\n",
       "      <td>7:26 pm</td>\n",
       "      <td>8:39 pm</td>\n",
       "    </tr>\n",
       "    <tr>\n",
       "      <th>5</th>\n",
       "      <td>26-Jan-2022</td>\n",
       "      <td>23-Jak-1443</td>\n",
       "      <td>Wednesday</td>\n",
       "      <td>6:06 am</td>\n",
       "      <td>6:16 am</td>\n",
       "      <td>7:26 am</td>\n",
       "      <td>1:28 pm</td>\n",
       "      <td>4:50 pm</td>\n",
       "      <td>7:26 pm</td>\n",
       "      <td>8:39 pm</td>\n",
       "    </tr>\n",
       "    <tr>\n",
       "      <th>6</th>\n",
       "      <td>27-Jan-2022</td>\n",
       "      <td>24-Jak-1443</td>\n",
       "      <td>Thursday</td>\n",
       "      <td>6:07 am</td>\n",
       "      <td>6:17 am</td>\n",
       "      <td>7:26 am</td>\n",
       "      <td>1:29 pm</td>\n",
       "      <td>4:50 pm</td>\n",
       "      <td>7:27 pm</td>\n",
       "      <td>8:39 pm</td>\n",
       "    </tr>\n",
       "    <tr>\n",
       "      <th>7</th>\n",
       "      <td>28-Jan-2022</td>\n",
       "      <td>25-Jak-1443</td>\n",
       "      <td>Friday</td>\n",
       "      <td>6:07 am</td>\n",
       "      <td>6:17 am</td>\n",
       "      <td>7:26 am</td>\n",
       "      <td>1:29 pm</td>\n",
       "      <td>4:50 pm</td>\n",
       "      <td>7:27 pm</td>\n",
       "      <td>8:39 pm</td>\n",
       "    </tr>\n",
       "  </tbody>\n",
       "</table>\n",
       "</div>"
      ],
      "text/plain": [
       "  Tarikh Miladi Tarikh Hijri       Hari    Imsak    Subuh   Syuruk    Zohor  \\\n",
       "0   21-Jan-2022  18-Jak-1443     Friday  6:05 am  6:15 am  7:25 am  1:27 pm   \n",
       "1   22-Jan-2022  19-Jak-1443   Saturday  6:05 am  6:15 am  7:25 am  1:27 pm   \n",
       "2   23-Jan-2022  20-Jak-1443     Sunday  6:06 am  6:16 am  7:26 am  1:28 pm   \n",
       "3   24-Jan-2022  21-Jak-1443     Monday  6:06 am  6:16 am  7:26 am  1:28 pm   \n",
       "4   25-Jan-2022  22-Jak-1443    Tuesday  6:06 am  6:16 am  7:26 am  1:28 pm   \n",
       "5   26-Jan-2022  23-Jak-1443  Wednesday  6:06 am  6:16 am  7:26 am  1:28 pm   \n",
       "6   27-Jan-2022  24-Jak-1443   Thursday  6:07 am  6:17 am  7:26 am  1:29 pm   \n",
       "7   28-Jan-2022  25-Jak-1443     Friday  6:07 am  6:17 am  7:26 am  1:29 pm   \n",
       "\n",
       "      Asar  Maghrib    Isyak  \n",
       "0  4:49 pm  7:25 pm  8:38 pm  \n",
       "1  4:49 pm  7:25 pm  8:38 pm  \n",
       "2  4:50 pm  7:26 pm  8:38 pm  \n",
       "3  4:50 pm  7:26 pm  8:39 pm  \n",
       "4  4:50 pm  7:26 pm  8:39 pm  \n",
       "5  4:50 pm  7:26 pm  8:39 pm  \n",
       "6  4:50 pm  7:27 pm  8:39 pm  \n",
       "7  4:50 pm  7:27 pm  8:39 pm  "
      ]
     },
     "execution_count": 22,
     "metadata": {},
     "output_type": "execute_result"
    }
   ],
   "source": [
    "df[0]"
   ]
  },
  {
   "cell_type": "code",
   "execution_count": 23,
   "metadata": {},
   "outputs": [],
   "source": [
    "Today_Date = df[0].iloc[0,0]\n",
    "Hijri_Date = df[0].iloc[0,1]\n",
    "Day = df[0].iloc[0,2]\n",
    "Imsak = df[0].iloc[0,3]\n",
    "Subuh = df[0].iloc[0,4]\n",
    "Syuruk = df[0].iloc[0,5]\n",
    "Zohor = df[0].iloc[0,6]\n",
    "Asar = df[0].iloc[0,7]\n",
    "Maghrib = df[0].iloc[0,8]\n",
    "Isyak = df[0].iloc[0,9]"
   ]
  },
  {
   "cell_type": "code",
   "execution_count": 24,
   "metadata": {},
   "outputs": [
    {
     "data": {
      "text/plain": [
       "'1:27 pm'"
      ]
     },
     "execution_count": 24,
     "metadata": {},
     "output_type": "execute_result"
    }
   ],
   "source": [
    "Zohor"
   ]
  },
  {
   "cell_type": "code",
   "execution_count": 25,
   "metadata": {},
   "outputs": [],
   "source": [
    "Tittle = '*Waktu Solat bagi wilayah Gombak, Petaling, Sepang, Hulu Langat, Hulu Selangor & S.Alam.*'"
   ]
  },
  {
   "cell_type": "code",
   "execution_count": 26,
   "metadata": {},
   "outputs": [],
   "source": [
    "Footer = '_This is an automated message. The solat time is taken from https://www.e-solat.gov.my/._'"
   ]
  },
  {
   "cell_type": "code",
   "execution_count": 27,
   "metadata": {},
   "outputs": [
    {
     "data": {
      "text/plain": [
       "'_This is an automated message. The solat time is taken from https://www.e-solat.gov.my/._'"
      ]
     },
     "execution_count": 27,
     "metadata": {},
     "output_type": "execute_result"
    }
   ],
   "source": [
    "Footer"
   ]
  },
  {
   "cell_type": "markdown",
   "metadata": {},
   "source": [
    "# Whatsapp Selenium"
   ]
  },
  {
   "cell_type": "code",
   "execution_count": 28,
   "metadata": {},
   "outputs": [],
   "source": [
    "url2 = 'https://web.whatsapp.com/'"
   ]
  },
  {
   "cell_type": "code",
   "execution_count": 29,
   "metadata": {},
   "outputs": [],
   "source": [
    "driver.get(url2)"
   ]
  },
  {
   "cell_type": "code",
   "execution_count": 30,
   "metadata": {},
   "outputs": [],
   "source": [
    "time.sleep(15)"
   ]
  },
  {
   "cell_type": "code",
   "execution_count": 31,
   "metadata": {},
   "outputs": [],
   "source": [
    "contacts = ('Wifey', 'Family')"
   ]
  },
  {
   "cell_type": "code",
   "execution_count": 32,
   "metadata": {},
   "outputs": [
    {
     "data": {
      "text/plain": [
       "('Wifey', 'Family')"
      ]
     },
     "execution_count": 32,
     "metadata": {},
     "output_type": "execute_result"
    }
   ],
   "source": [
    "contacts"
   ]
  },
  {
   "cell_type": "code",
   "execution_count": 33,
   "metadata": {},
   "outputs": [],
   "source": [
    "def send():\n",
    "    for contact in contacts:\n",
    "        contact_search = driver.find_element_by_xpath('//*[@id=\"side\"]/div[1]/div/label/div/div[2]')\n",
    "        contact_search.send_keys(contact)\n",
    "        contact_search.send_keys(Keys.ENTER)\n",
    "        time.sleep(2)\n",
    "        whatsapp_msg = driver.find_element_by_xpath('//*[@id=\"main\"]/footer/div[1]/div/span[2]/div/div[2]/div[1]/div/div[2]')\n",
    "        whatsapp_msg.send_keys(Tittle)\n",
    "        whatsapp_msg.send_keys(Keys.SHIFT,Keys.ENTER)\n",
    "        whatsapp_msg.send_keys(Keys.SHIFT,Keys.ENTER)\n",
    "        whatsapp_msg.send_keys('Date: '+ Today_Date)\n",
    "        whatsapp_msg.send_keys(Keys.SHIFT,Keys.ENTER)\n",
    "        whatsapp_msg.send_keys('Hijri: '+ Hijri_Date)\n",
    "        whatsapp_msg.send_keys(Keys.SHIFT,Keys.ENTER)\n",
    "        whatsapp_msg.send_keys('Day: '+ Day)\n",
    "        whatsapp_msg.send_keys(Keys.SHIFT,Keys.ENTER)\n",
    "        whatsapp_msg.send_keys(Keys.SHIFT,Keys.ENTER)\n",
    "        whatsapp_msg.send_keys('Imsak - '+ Imsak)\n",
    "        whatsapp_msg.send_keys(Keys.SHIFT,Keys.ENTER)\n",
    "        whatsapp_msg.send_keys('Subuh - '+ Subuh)\n",
    "        whatsapp_msg.send_keys(Keys.SHIFT,Keys.ENTER)\n",
    "        whatsapp_msg.send_keys('Syuruk - '+ Syuruk)\n",
    "        whatsapp_msg.send_keys(Keys.SHIFT,Keys.ENTER)\n",
    "        whatsapp_msg.send_keys('Zohor - '+ Zohor)\n",
    "        whatsapp_msg.send_keys(Keys.SHIFT,Keys.ENTER)\n",
    "        whatsapp_msg.send_keys('Asar - '+ Asar)\n",
    "        whatsapp_msg.send_keys(Keys.SHIFT,Keys.ENTER)\n",
    "        whatsapp_msg.send_keys('Maghrib - '+ Maghrib)\n",
    "        whatsapp_msg.send_keys(Keys.SHIFT,Keys.ENTER)\n",
    "        whatsapp_msg.send_keys('Isyak - '+ Isyak)\n",
    "        whatsapp_msg.send_keys(Keys.SHIFT,Keys.ENTER)\n",
    "        whatsapp_msg.send_keys(Keys.SHIFT,Keys.ENTER)\n",
    "        whatsapp_msg.send_keys(Footer)\n",
    "        whatsapp_msg.send_keys(Keys.ENTER)\n",
    "        time.sleep(2)\n",
    "\n",
    "if __name__ == \"__main__\":\n",
    "    send()"
   ]
  },
  {
   "cell_type": "code",
   "execution_count": 34,
   "metadata": {},
   "outputs": [],
   "source": [
    "time.sleep(5)"
   ]
  },
  {
   "cell_type": "code",
   "execution_count": 35,
   "metadata": {},
   "outputs": [],
   "source": [
    "driver.quit()"
   ]
  }
 ],
 "metadata": {
  "kernelspec": {
   "display_name": "Python 3",
   "language": "python",
   "name": "python3"
  },
  "language_info": {
   "codemirror_mode": {
    "name": "ipython",
    "version": 3
   },
   "file_extension": ".py",
   "mimetype": "text/x-python",
   "name": "python",
   "nbconvert_exporter": "python",
   "pygments_lexer": "ipython3",
   "version": "3.8.8"
  }
 },
 "nbformat": 4,
 "nbformat_minor": 4
}
